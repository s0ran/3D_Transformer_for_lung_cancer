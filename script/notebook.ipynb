{
 "cells": [
  {
   "cell_type": "code",
   "execution_count": 1,
   "metadata": {},
   "outputs": [],
   "source": [
    "from dataset import PretrainingDataset,SegmentationDataset,LungCTFullImageDataset,LungRadiomicsInterobserverDataset,LungRadiomicsDataset,VolumeLungRadiomicsInterobserverDataset,VolumeLungRadiomicsDataset\n",
    "from model import ThreeDimensionalTransformer,load_model,VolumeTransformer6,MyAttention,MiniTransformer6,ThreeDimensionalUNet,MiniTransformer4,MiniTransformer5,Transformer4\n",
    "import matplotlib.pyplot as plt\n",
    "import torch \n",
    "import torch.nn as nn\n",
    "import numpy as np\n",
    "import pandas as pd\n",
    "from torch.utils.data import DataLoader\n",
    "#from pretrain import make_data\n",
    "import pydicom\n",
    "from train_volume import make_data,make_model,train\n",
    "from metrics import DSC,DSCManager,weightDSC\n",
    "from loss_function import DiceLoss,DSLManager,BCE_with_DiceLoss\n"
   ]
  },
  {
   "cell_type": "code",
   "execution_count": 2,
   "metadata": {},
   "outputs": [],
   "source": [
    "model=load_model(\"/home/nfs/snakagawa/Strage/CancerSegmentation/models/train/2022-02-09-20-37-50.pt\",torch.device(\"cpu\"),\"VolumeTransformer6\",pretrain=False)\n",
    "#model=load_model(\"/home/nfs/snakagawa/Strage/CancerSegmentation/models/train/2022-02-06-21-30-41.pt\",torch.device(\"cpu\"),\"Transformer2\",pretrain=False)\n",
    "#model=load_model(\"/home/nfs/snakagawa/Strage/CancerSegmentation/models/train/2022-01-25-15-33-44.pt\",torch.device(\"cpu\"),\"ThreeDimensionalUNet\")\n",
    "#model=VolumeTransformer6()"
   ]
  },
  {
   "cell_type": "code",
   "execution_count": 3,
   "metadata": {},
   "outputs": [
    {
     "name": "stderr",
     "output_type": "stream",
     "text": [
      "423it [00:00, 511.66it/s]\n"
     ]
    }
   ],
   "source": [
    "dataset=VolumeLungRadiomicsDataset(key=\"GTV-1\")"
   ]
  },
  {
   "cell_type": "code",
   "execution_count": 4,
   "metadata": {},
   "outputs": [],
   "source": [
    "loader=DataLoader(dataset,batch_size=1)\n",
    "#loader=DataLoader(patch_provider,batch_size=1)\n",
    "iterator=iter(loader)"
   ]
  },
  {
   "cell_type": "code",
   "execution_count": 5,
   "metadata": {},
   "outputs": [],
   "source": [
    "image,label =next(iterator)\n"
   ]
  },
  {
   "cell_type": "code",
   "execution_count": null,
   "metadata": {},
   "outputs": [],
   "source": [
    "\n"
   ]
  },
  {
   "cell_type": "code",
   "execution_count": 6,
   "metadata": {},
   "outputs": [],
   "source": [
    "#image=image.to(torch.device(\"cuda:0\"))\n",
    "#image.requires_grad=True\n",
    "predict=model(image)\n",
    "#predict=model(torch.flip(image,[2])).cpu().detach()\n",
    "image=image\n"
   ]
  },
  {
   "cell_type": "code",
   "execution_count": 16,
   "metadata": {},
   "outputs": [],
   "source": [
    "optimizer=torch.optim.Adam(model.parameters(),lr=0.001)\n",
    "loss=BCE_with_DiceLoss(predict,label)\n",
    "loss.backward()\n",
    "optimizer.step()"
   ]
  },
  {
   "cell_type": "code",
   "execution_count": 9,
   "metadata": {},
   "outputs": [],
   "source": [
    "image,label =next(iterator)\n",
    "predict2=model(image).cpu().detach()\n",
    "#predict=model(torch.flip(image,[2])).cpu().detach()\n",
    "image=image.cpu().detach()\n"
   ]
  },
  {
   "cell_type": "code",
   "execution_count": 7,
   "metadata": {},
   "outputs": [],
   "source": [
    "predict=predict.detach()\n",
    "image=image.detach()"
   ]
  },
  {
   "cell_type": "code",
   "execution_count": 10,
   "metadata": {},
   "outputs": [
    {
     "data": {
      "text/plain": [
       "tensor(1.0000)"
      ]
     },
     "execution_count": 10,
     "metadata": {},
     "output_type": "execute_result"
    }
   ],
   "source": [
    "DSC(predict,predict2)"
   ]
  },
  {
   "cell_type": "code",
   "execution_count": 13,
   "metadata": {},
   "outputs": [
    {
     "data": {
      "text/plain": [
       "tensor(0.2078)"
      ]
     },
     "execution_count": 13,
     "metadata": {},
     "output_type": "execute_result"
    }
   ],
   "source": [
    "DSC(predict,label)"
   ]
  },
  {
   "cell_type": "code",
   "execution_count": 74,
   "metadata": {},
   "outputs": [
    {
     "name": "stdout",
     "output_type": "stream",
     "text": [
      "65\n",
      "66\n",
      "67\n",
      "68\n",
      "69\n",
      "70\n",
      "71\n",
      "72\n",
      "73\n",
      "74\n",
      "75\n",
      "76\n",
      "77\n",
      "78\n",
      "79\n",
      "80\n",
      "81\n",
      "82\n",
      "83\n",
      "84\n",
      "85\n"
     ]
    }
   ],
   "source": [
    "for depth in range(label.size()[2]):\n",
    "    if label[:,0,depth].max()>0.5:\n",
    "        print(depth)"
   ]
  },
  {
   "cell_type": "code",
   "execution_count": 35,
   "metadata": {},
   "outputs": [],
   "source": [
    "binpre=torch.where(predict>0.5,1,0)"
   ]
  },
  {
   "cell_type": "code",
   "execution_count": 10,
   "metadata": {},
   "outputs": [],
   "source": [
    "emb=model.norm1(model.patch_embed(image))\n",
    "#emb=model.patch_embed(image)"
   ]
  },
  {
   "cell_type": "code",
   "execution_count": 11,
   "metadata": {},
   "outputs": [
    {
     "data": {
      "text/plain": [
       "tensor(5.9735, grad_fn=<MaxBackward1>)"
      ]
     },
     "execution_count": 11,
     "metadata": {},
     "output_type": "execute_result"
    }
   ],
   "source": [
    "emb.max()"
   ]
  },
  {
   "cell_type": "code",
   "execution_count": 12,
   "metadata": {},
   "outputs": [],
   "source": [
    "x=model.block1.attn(emb)"
   ]
  },
  {
   "cell_type": "code",
   "execution_count": 14,
   "metadata": {},
   "outputs": [
    {
     "data": {
      "text/plain": [
       "tensor(16006.7754, grad_fn=<MaxBackward1>)"
      ]
     },
     "execution_count": 14,
     "metadata": {},
     "output_type": "execute_result"
    }
   ],
   "source": [
    "x.max()"
   ]
  },
  {
   "cell_type": "code",
   "execution_count": 16,
   "metadata": {},
   "outputs": [],
   "source": [
    "emb2=torch.reshape(emb,(1,10,16,16,32,32,32))\n",
    "#emb2=torch.reshape(emb,(1,20,32,32,16,16,16))\n",
    "emb3=torch.reshape(emb2.permute(0,1,4,2,5,3,6),(1,1,320,512,512))"
   ]
  },
  {
   "cell_type": "code",
   "execution_count": 14,
   "metadata": {},
   "outputs": [],
   "source": [
    "x1=model.block1(emb)"
   ]
  },
  {
   "cell_type": "code",
   "execution_count": 42,
   "metadata": {},
   "outputs": [
    {
     "data": {
      "text/plain": [
       "torch.Size([1, 20480, 4096])"
      ]
     },
     "execution_count": 42,
     "metadata": {},
     "output_type": "execute_result"
    }
   ],
   "source": [
    "x1.shape"
   ]
  },
  {
   "cell_type": "code",
   "execution_count": 19,
   "metadata": {},
   "outputs": [
    {
     "data": {
      "text/plain": [
       "torch.Size([1, 2560, 128])"
      ]
     },
     "execution_count": 19,
     "metadata": {},
     "output_type": "execute_result"
    }
   ],
   "source": [
    "x1.size()"
   ]
  },
  {
   "cell_type": "code",
   "execution_count": 18,
   "metadata": {},
   "outputs": [
    {
     "ename": "RuntimeError",
     "evalue": "shape '[1, 10, 16, 16, 32, 32, 32]' is invalid for input of size 327680",
     "output_type": "error",
     "traceback": [
      "\u001b[0;31m---------------------------------------------------------------------------\u001b[0m",
      "\u001b[0;31mRuntimeError\u001b[0m                              Traceback (most recent call last)",
      "\u001b[0;32m/tmp/ipykernel_6342/1648756457.py\u001b[0m in \u001b[0;36m<module>\u001b[0;34m\u001b[0m\n\u001b[1;32m      1\u001b[0m \u001b[0;31m#x2=torch.reshape(x1,(1,20,32,32,16,16,16))\u001b[0m\u001b[0;34m\u001b[0m\u001b[0;34m\u001b[0m\u001b[0;34m\u001b[0m\u001b[0m\n\u001b[0;32m----> 2\u001b[0;31m \u001b[0mx2\u001b[0m\u001b[0;34m=\u001b[0m\u001b[0mtorch\u001b[0m\u001b[0;34m.\u001b[0m\u001b[0mreshape\u001b[0m\u001b[0;34m(\u001b[0m\u001b[0mx1\u001b[0m\u001b[0;34m,\u001b[0m\u001b[0;34m(\u001b[0m\u001b[0;36m1\u001b[0m\u001b[0;34m,\u001b[0m\u001b[0;36m10\u001b[0m\u001b[0;34m,\u001b[0m\u001b[0;36m16\u001b[0m\u001b[0;34m,\u001b[0m\u001b[0;36m16\u001b[0m\u001b[0;34m,\u001b[0m\u001b[0;36m32\u001b[0m\u001b[0;34m,\u001b[0m\u001b[0;36m32\u001b[0m\u001b[0;34m,\u001b[0m\u001b[0;36m32\u001b[0m\u001b[0;34m)\u001b[0m\u001b[0;34m)\u001b[0m\u001b[0;34m\u001b[0m\u001b[0;34m\u001b[0m\u001b[0m\n\u001b[0m\u001b[1;32m      3\u001b[0m \u001b[0mx3\u001b[0m\u001b[0;34m=\u001b[0m\u001b[0mtorch\u001b[0m\u001b[0;34m.\u001b[0m\u001b[0mreshape\u001b[0m\u001b[0;34m(\u001b[0m\u001b[0mx2\u001b[0m\u001b[0;34m.\u001b[0m\u001b[0mpermute\u001b[0m\u001b[0;34m(\u001b[0m\u001b[0;36m0\u001b[0m\u001b[0;34m,\u001b[0m\u001b[0;36m1\u001b[0m\u001b[0;34m,\u001b[0m\u001b[0;36m4\u001b[0m\u001b[0;34m,\u001b[0m\u001b[0;36m2\u001b[0m\u001b[0;34m,\u001b[0m\u001b[0;36m5\u001b[0m\u001b[0;34m,\u001b[0m\u001b[0;36m3\u001b[0m\u001b[0;34m,\u001b[0m\u001b[0;36m6\u001b[0m\u001b[0;34m)\u001b[0m\u001b[0;34m,\u001b[0m\u001b[0;34m(\u001b[0m\u001b[0;36m1\u001b[0m\u001b[0;34m,\u001b[0m\u001b[0;36m1\u001b[0m\u001b[0;34m,\u001b[0m\u001b[0;36m320\u001b[0m\u001b[0;34m,\u001b[0m\u001b[0;36m512\u001b[0m\u001b[0;34m,\u001b[0m\u001b[0;36m512\u001b[0m\u001b[0;34m)\u001b[0m\u001b[0;34m)\u001b[0m\u001b[0;34m\u001b[0m\u001b[0;34m\u001b[0m\u001b[0m\n",
      "\u001b[0;31mRuntimeError\u001b[0m: shape '[1, 10, 16, 16, 32, 32, 32]' is invalid for input of size 327680"
     ]
    }
   ],
   "source": [
    "#x2=torch.reshape(x1,(1,20,32,32,16,16,16))\n",
    "x2=torch.reshape(x1,(1,10,16,16,32,32,32))\n",
    "x3=torch.reshape(x2.permute(0,1,4,2,5,3,6),(1,1,320,512,512))"
   ]
  },
  {
   "cell_type": "code",
   "execution_count": 22,
   "metadata": {},
   "outputs": [
    {
     "data": {
      "text/plain": [
       "<matplotlib.image.AxesImage at 0x15355c7cb760>"
      ]
     },
     "execution_count": 22,
     "metadata": {},
     "output_type": "execute_result"
    },
    {
     "data": {
      "image/png": "[encoded data removed]",
      "text/plain": [
       "<Figure size 432x288 with 1 Axes>"
      ]
     },
     "metadata": {
      "needs_background": "light"
     },
     "output_type": "display_data"
    }
   ],
   "source": [
    "plt.imshow(x1[0].detach(),cmap=\"gray\")"
   ]
  },
  {
   "cell_type": "code",
   "execution_count": 23,
   "metadata": {},
   "outputs": [
    {
     "data": {
      "text/plain": [
       "tensor([ 0.2735, -0.0245,  0.5199, -0.4072, -0.0665, -0.6826, -0.1527, -0.3366,\n",
       "         0.5657,  0.2665, -0.6541, -0.2698, -0.1993,  0.6322,  0.7135,  0.0171,\n",
       "        -0.7181, -0.6910, -0.3986, -0.0810,  0.0231,  0.4001, -0.3175,  0.2234,\n",
       "         0.6207,  0.0808,  0.1200,  0.1475,  0.0267,  0.3240,  0.4096,  0.3162,\n",
       "         0.6889, -0.5447,  0.1301, -0.6447,  0.0680,  0.0346,  0.0505,  0.0366,\n",
       "        -0.2910, -0.5882,  0.0827,  0.4136, -0.4456,  0.2660, -0.4599, -0.3094,\n",
       "        -0.2358, -0.3046,  0.6504,  0.0474, -0.1499, -0.1849,  0.2968,  0.3232,\n",
       "        -0.0416,  0.3901, -0.5044, -0.0955,  0.1929, -0.1177,  0.1337,  0.1362,\n",
       "        -0.0899, -0.0787,  0.0108, -0.4105,  0.1038,  0.6600, -0.1642, -0.1288,\n",
       "        -0.3262,  0.1328,  0.7026, -0.9396, -0.3890, -0.1344, -0.1673, -0.1920,\n",
       "        -0.1059,  0.9597, -0.7273, -0.4700, -0.1445, -0.1764,  0.0757,  0.6480,\n",
       "        -0.5388, -0.5035,  0.0853,  0.4935, -0.6448, -0.0984,  0.2425,  0.0123,\n",
       "         0.2463, -0.3587,  0.7537,  0.0976, -0.3309, -0.4728, -0.2794, -0.1260,\n",
       "         0.1250, -0.0588,  0.2186, -0.1080, -0.6215, -0.3334, -0.0321,  0.5322,\n",
       "         0.6567,  0.4172,  0.2109,  0.7091, -0.0192, -0.7070,  0.2746,  0.3062,\n",
       "        -0.6615,  0.2375,  0.5829, -0.0375, -0.6457,  0.4478,  0.0483,  0.1346],\n",
       "       grad_fn=<SelectBackward0>)"
      ]
     },
     "execution_count": 23,
     "metadata": {},
     "output_type": "execute_result"
    }
   ],
   "source": [
    "x1[0][0]"
   ]
  },
  {
   "cell_type": "code",
   "execution_count": 15,
   "metadata": {},
   "outputs": [
    {
     "data": {
      "text/plain": [
       "tensor(4.4370, grad_fn=<MaxBackward1>)"
      ]
     },
     "execution_count": 15,
     "metadata": {},
     "output_type": "execute_result"
    }
   ],
   "source": [
    "emb.max()"
   ]
  },
  {
   "cell_type": "code",
   "execution_count": 10,
   "metadata": {},
   "outputs": [
    {
     "data": {
      "text/plain": [
       "<matplotlib.image.AxesImage at 0x14815049fd90>"
      ]
     },
     "execution_count": 10,
     "metadata": {},
     "output_type": "execute_result"
    },
    {
     "data": {
      "image/png": "[encoded data removed]",
      "text/plain": [
       "<Figure size 432x288 with 1 Axes>"
      ]
     },
     "metadata": {
      "needs_background": "light"
     },
     "output_type": "display_data"
    }
   ],
   "source": [
    "#plt.imshow(torch.cat([x]*1000,dim=2)[0].detach(),cmap=\"gray\")\n",
    "plt.imshow(emb[0].detach(),cmap=\"gray\")"
   ]
  },
  {
   "cell_type": "code",
   "execution_count": 25,
   "metadata": {},
   "outputs": [],
   "source": [
    "x1=model.block1(emb)\n",
    "#x2=nn.LayerNorm([2560,128])(model.block2(x1))\n",
    "x3=model.block3(x1)+x1\n",
    "#x4=nn.LayerNorm([2560,128])(model.block4(x3)+x1)\n",
    "x5=model.block5(x3)"
   ]
  },
  {
   "cell_type": "code",
   "execution_count": 26,
   "metadata": {},
   "outputs": [
    {
     "name": "stdout",
     "output_type": "stream",
     "text": [
      "tensor(16.1129, grad_fn=<MaxBackward1>) tensor(1409.8834, grad_fn=<MaxBackward1>) tensor(4.2025, grad_fn=<MaxBackward1>)\n"
     ]
    }
   ],
   "source": [
    "print(x1.max(),x3.max(),x5.max())"
   ]
  },
  {
   "cell_type": "code",
   "execution_count": 19,
   "metadata": {},
   "outputs": [
    {
     "data": {
      "text/plain": [
       "torch.Size([1, 2560, 32768])"
      ]
     },
     "execution_count": 19,
     "metadata": {},
     "output_type": "execute_result"
    }
   ],
   "source": [
    "emb.size()"
   ]
  },
  {
   "cell_type": "code",
   "execution_count": 43,
   "metadata": {},
   "outputs": [],
   "source": [
    "#qkv=model.block1.attn.qkv(emb).reshape(1, 2560, 3, model.block1.attn.num_heads, model.block1.attn.out_dim // model.block1.attn.num_heads).permute(2, 0, 3, 1, 4)\n",
    "#qkv=model.block1.attn.qkv(emb).reshape(1, 20480, 3, model.block1.attn.num_heads,  4096// model.block1.attn.num_heads).permute(2, 0, 3, 1, 4)\n",
    "#qkv=model.block2.attn.qkv(x1).reshape(1, 2560, 3, model.block2.attn.num_heads,128// model.block2.attn.num_heads).permute(2, 0, 3, 1, 4)\n",
    "qkv=model.block3.attn.qkv(x1).reshape(1, 2560, 3, model.block3.attn.num_heads,128// model.block3.attn.num_heads).permute(2, 0, 3, 1, 4)\n",
    "#qkv=model.block4.attn.qkv(x3).reshape(1, 2560, 3, model.block4.attn.num_heads,128// model.block4.attn.num_heads).permute(2, 0, 3, 1, 4)\n",
    "#qkv=model.block5.attn.qkv(x3).reshape(1, 2560, 3, model.block5.attn.num_heads,128).permute(2, 0, 3, 1, 4)"
   ]
  },
  {
   "cell_type": "code",
   "execution_count": 44,
   "metadata": {},
   "outputs": [
    {
     "data": {
      "text/plain": [
       "tensor(-78.7591, grad_fn=<MinBackward1>)"
      ]
     },
     "execution_count": 44,
     "metadata": {},
     "output_type": "execute_result"
    }
   ],
   "source": [
    "qkv.min()"
   ]
  },
  {
   "cell_type": "code",
   "execution_count": 45,
   "metadata": {},
   "outputs": [],
   "source": [
    "q,k,v=qkv[0], qkv[1], qkv[2] "
   ]
  },
  {
   "cell_type": "code",
   "execution_count": 30,
   "metadata": {},
   "outputs": [
    {
     "data": {
      "text/plain": [
       "tensor(0.0090, grad_fn=<MeanBackward0>)"
      ]
     },
     "execution_count": 30,
     "metadata": {},
     "output_type": "execute_result"
    }
   ],
   "source": [
    "q.mean()"
   ]
  },
  {
   "cell_type": "code",
   "execution_count": null,
   "metadata": {},
   "outputs": [],
   "source": []
  },
  {
   "cell_type": "code",
   "execution_count": 53,
   "metadata": {},
   "outputs": [],
   "source": [
    "#attn =model.block1.attn.norm(q @ k.transpose(-2, -1)).softmax(dim=-1)\n",
    "attn =(q @ k.transpose(-2, -1)*model.block3.attn.scale).softmax(dim=-1)"
   ]
  },
  {
   "cell_type": "code",
   "execution_count": 48,
   "metadata": {},
   "outputs": [
    {
     "data": {
      "text/plain": [
       "tensor(53056.3750, grad_fn=<MaxBackward1>)"
      ]
     },
     "execution_count": 48,
     "metadata": {},
     "output_type": "execute_result"
    }
   ],
   "source": [
    "#model.block1.attn.norm((q @ k.transpose(-2, -1))).max()\n",
    "(q @ k.transpose(-2, -1)).max()"
   ]
  },
  {
   "cell_type": "code",
   "execution_count": 51,
   "metadata": {},
   "outputs": [
    {
     "data": {
      "text/plain": [
       "0.0078125"
      ]
     },
     "execution_count": 51,
     "metadata": {},
     "output_type": "execute_result"
    }
   ],
   "source": [
    "model.block3.attn.scale"
   ]
  },
  {
   "cell_type": "code",
   "execution_count": 58,
   "metadata": {},
   "outputs": [
    {
     "data": {
      "text/plain": [
       "tensor(5.3783e-39, grad_fn=<MinBackward1>)"
      ]
     },
     "execution_count": 58,
     "metadata": {},
     "output_type": "execute_result"
    }
   ],
   "source": [
    "attn[0,0].max()"
   ]
  },
  {
   "cell_type": "code",
   "execution_count": 63,
   "metadata": {},
   "outputs": [
    {
     "data": {
      "text/plain": [
       "torch.Size([1, 2, 20480, 20480])"
      ]
     },
     "execution_count": 63,
     "metadata": {},
     "output_type": "execute_result"
    }
   ],
   "source": [
    "attn.size()"
   ]
  },
  {
   "cell_type": "code",
   "execution_count": 64,
   "metadata": {},
   "outputs": [
    {
     "data": {
      "text/plain": [
       "<matplotlib.image.AxesImage at 0x15355c215160>"
      ]
     },
     "execution_count": 64,
     "metadata": {},
     "output_type": "execute_result"
    },
    {
     "data": {
      "image/png": "[encoded data removed]",
      "text/plain": [
       "<Figure size 432x288 with 1 Axes>"
      ]
     },
     "metadata": {
      "needs_background": "light"
     },
     "output_type": "display_data"
    }
   ],
   "source": [
    "plt.imshow(attn[0,5].detach(),cmap=\"gray\")"
   ]
  },
  {
   "cell_type": "code",
   "execution_count": 127,
   "metadata": {},
   "outputs": [
    {
     "data": {
      "text/plain": [
       "tensor([[[[4.2088e-04, 4.1757e-04, 4.1601e-04,  ..., 4.2126e-04,\n",
       "           4.2110e-04, 4.2126e-04],\n",
       "          [4.2066e-04, 4.1734e-04, 4.1581e-04,  ..., 4.2103e-04,\n",
       "           4.2088e-04, 4.2103e-04],\n",
       "          [4.2054e-04, 4.1726e-04, 4.1573e-04,  ..., 4.2091e-04,\n",
       "           4.2076e-04, 4.2091e-04],\n",
       "          ...,\n",
       "          [4.2090e-04, 4.1760e-04, 4.1603e-04,  ..., 4.2127e-04,\n",
       "           4.2112e-04, 4.2127e-04],\n",
       "          [4.2089e-04, 4.1759e-04, 4.1602e-04,  ..., 4.2126e-04,\n",
       "           4.2111e-04, 4.2126e-04],\n",
       "          [4.2090e-04, 4.1760e-04, 4.1603e-04,  ..., 4.2128e-04,\n",
       "           4.2112e-04, 4.2128e-04]],\n",
       "\n",
       "         [[7.5624e-05, 8.7029e-05, 8.7439e-05,  ..., 7.4349e-05,\n",
       "           7.4455e-05, 7.4301e-05],\n",
       "          [7.9054e-05, 9.0749e-05, 9.1166e-05,  ..., 7.7745e-05,\n",
       "           7.7854e-05, 7.7696e-05],\n",
       "          [7.8631e-05, 9.0287e-05, 9.0705e-05,  ..., 7.7327e-05,\n",
       "           7.7435e-05, 7.7278e-05],\n",
       "          ...,\n",
       "          [7.5156e-05, 8.6520e-05, 8.6929e-05,  ..., 7.3886e-05,\n",
       "           7.3991e-05, 7.3838e-05],\n",
       "          [7.5137e-05, 8.6500e-05, 8.6908e-05,  ..., 7.3867e-05,\n",
       "           7.3973e-05, 7.3820e-05],\n",
       "          [7.5140e-05, 8.6503e-05, 8.6912e-05,  ..., 7.3870e-05,\n",
       "           7.3976e-05, 7.3823e-05]],\n",
       "\n",
       "         [[2.7547e-04, 2.9790e-04, 2.9326e-04,  ..., 2.7237e-04,\n",
       "           2.7208e-04, 2.7225e-04],\n",
       "          [2.7838e-04, 3.0057e-04, 2.9597e-04,  ..., 2.7531e-04,\n",
       "           2.7502e-04, 2.7519e-04],\n",
       "          [2.7786e-04, 3.0009e-04, 2.9549e-04,  ..., 2.7479e-04,\n",
       "           2.7450e-04, 2.7468e-04],\n",
       "          ...,\n",
       "          [2.7504e-04, 2.9751e-04, 2.9286e-04,  ..., 2.7194e-04,\n",
       "           2.7165e-04, 2.7182e-04],\n",
       "          [2.7501e-04, 2.9748e-04, 2.9283e-04,  ..., 2.7190e-04,\n",
       "           2.7161e-04, 2.7179e-04],\n",
       "          [2.7503e-04, 2.9750e-04, 2.9285e-04,  ..., 2.7193e-04,\n",
       "           2.7163e-04, 2.7181e-04]],\n",
       "\n",
       "         [[9.2675e-06, 1.2468e-05, 1.2137e-05,  ..., 8.8978e-06,\n",
       "           8.8880e-06, 8.8853e-06],\n",
       "          [1.0340e-05, 1.3838e-05, 1.3476e-05,  ..., 9.9345e-06,\n",
       "           9.9237e-06, 9.9208e-06],\n",
       "          [1.0234e-05, 1.3703e-05, 1.3344e-05,  ..., 9.8322e-06,\n",
       "           9.8214e-06, 9.8186e-06],\n",
       "          ...,\n",
       "          [9.1286e-06, 1.2290e-05, 1.1963e-05,  ..., 8.7636e-06,\n",
       "           8.7538e-06, 8.7513e-06],\n",
       "          [9.1250e-06, 1.2286e-05, 1.1958e-05,  ..., 8.7600e-06,\n",
       "           8.7503e-06, 8.7477e-06],\n",
       "          [9.1240e-06, 1.2284e-05, 1.1957e-05,  ..., 8.7591e-06,\n",
       "           8.7493e-06, 8.7467e-06]]]], grad_fn=<SoftmaxBackward0>)"
      ]
     },
     "execution_count": 127,
     "metadata": {},
     "output_type": "execute_result"
    }
   ],
   "source": [
    "attn"
   ]
  },
  {
   "cell_type": "code",
   "execution_count": null,
   "metadata": {},
   "outputs": [],
   "source": []
  },
  {
   "cell_type": "code",
   "execution_count": 51,
   "metadata": {},
   "outputs": [
    {
     "data": {
      "text/plain": [
       "tensor(8.3620, grad_fn=<SumBackward0>)"
      ]
     },
     "execution_count": 51,
     "metadata": {},
     "output_type": "execute_result"
    }
   ],
   "source": [
    "attn[0,0,:,6500].sum()"
   ]
  },
  {
   "cell_type": "code",
   "execution_count": 26,
   "metadata": {},
   "outputs": [
    {
     "data": {
      "text/plain": [
       "tensor(16731.4668, grad_fn=<MaxBackward1>)"
      ]
     },
     "execution_count": 26,
     "metadata": {},
     "output_type": "execute_result"
    }
   ],
   "source": [
    "qkv.max()"
   ]
  },
  {
   "cell_type": "code",
   "execution_count": 69,
   "metadata": {},
   "outputs": [
    {
     "name": "stdout",
     "output_type": "stream",
     "text": [
      "2480\n"
     ]
    }
   ],
   "source": [
    "for depth in range(2560):\n",
    "    if attn[0,0,:,depth].sum()>0:\n",
    "        print(depth)"
   ]
  },
  {
   "cell_type": "code",
   "execution_count": 7,
   "metadata": {},
   "outputs": [
    {
     "name": "stderr",
     "output_type": "stream",
     "text": [
      "Clipping input data to the valid range for imshow with RGB data ([0..1] for floats or [0..255] for integers).\n"
     ]
    },
    {
     "name": "stdout",
     "output_type": "stream",
     "text": [
      "tensor(0.6391, grad_fn=<MaxBackward1>)\n",
      "tensor(0.5288)\n"
     ]
    },
    {
     "data": {
      "image/png": "[encoded data removed]",
      "text/plain": [
       "<Figure size 432x288 with 4 Axes>"
      ]
     },
     "metadata": {
      "needs_background": "light"
     },
     "output_type": "display_data"
    }
   ],
   "source": [
    "depth=72\n",
    "fig,axs=plt.subplots(2,2)\n",
    "\n",
    "impose=torch.cat([image,image,image],dim=1)\n",
    "impose[:,0]+=(predict[:,0]>=0.5)\n",
    "impose[:,1]+=label[:,0]\n",
    "#impose[1,8:16,8:16]-=(label[0,0,depth]*0.1)\n",
    "#impose[2,8:16,8:16]-=(label[0,0,depth]*0.1)\n",
    "#impose=(impose-impose.min())/(impose.max()-impose.min())\n",
    "\n",
    "print(predict[:,0,depth].max())\n",
    "print(image[:,0,depth].max())\n",
    "axs[0,0].imshow(image[0,0,depth],cmap=\"gray\")\n",
    "#axs[0,0].imshow(emb[0].detach().numpy(),cmap=\"gray\")\n",
    "axs[0,0].set_title(\"Original\")\n",
    "#axs[1].imshow(predict[0,0,depth]>0.5,cmap=\"gray\")\n",
    "axs[1,0].imshow(label[0,0,depth],cmap=\"gray\")\n",
    "axs[1,0].set_title(\"Ground Truth\")\n",
    "#axs[1,1].imshow(emb3.detach()[0,0,depth],cmap=\"gray\")\n",
    "axs[1,1].imshow(predict[0,0,depth,]>0.5,cmap=\"gray\")\n",
    "axs[1,1].set_title(\"Predict\")\n",
    "axs[0,1].imshow(impose[0,:,depth].permute(1,2,0))\n",
    "axs[0,1].set_title(\"Mix\")\n",
    "fig.show()\n",
    "for ax in axs.flatten():\n",
    "    ax.axis(\"off\")\n",
    "fig.savefig(\"inout14.png\")"
   ]
  },
  {
   "cell_type": "code",
   "execution_count": 45,
   "metadata": {},
   "outputs": [
    {
     "data": {
      "text/plain": [
       "tensor(0.2502)"
      ]
     },
     "execution_count": 45,
     "metadata": {},
     "output_type": "execute_result"
    }
   ],
   "source": [
    "DSC(predict,label)"
   ]
  },
  {
   "cell_type": "code",
   "execution_count": null,
   "metadata": {},
   "outputs": [],
   "source": [
    "depth=65\n",
    "fig,axs=plt.subplots(1,3)\n",
    "axs[0].imshow(image[depth],cmap=\"gray\")\n",
    "#axs[1].imshow(predict[0,0,depth]>0.5,cmap=\"gray\")\n",
    "axs[2].imshow(label[depth],cmap=\"gray\")\n",
    "fig.show()"
   ]
  },
  {
   "cell_type": "code",
   "execution_count": null,
   "metadata": {},
   "outputs": [],
   "source": [
    "BCE_with_DiceLoss(predict,labels)"
   ]
  },
  {
   "cell_type": "code",
   "execution_count": null,
   "metadata": {},
   "outputs": [],
   "source": [
    "temp=torch.zeros_like(label[:,0])\n",
    "temp=torch.stack([temp,1-temp],dim=1)\n",
    "print(weightDSC(temp,labels))\n",
    "print(DSC(temp,labels))\n",
    "print(BCE_with_DiceLoss(temp,labels))\n"
   ]
  },
  {
   "cell_type": "code",
   "execution_count": null,
   "metadata": {},
   "outputs": [],
   "source": [
    "i=0\n",
    "cancers=[]\n",
    "for image,labels in loader:    \n",
    "    max=list(labels.values())[0][0,0].max()\n",
    "    if max>0:\n",
    "        cancers.append((image,labels))\n",
    "        #print(i)\n",
    "        i+=1\n",
    "print(i)\n"
   ]
  },
  {
   "cell_type": "code",
   "execution_count": null,
   "metadata": {},
   "outputs": [],
   "source": [
    "image=patch_provider.cube\n",
    "label=list(patch_provider.labels.values())[0]\n",
    "for i in range(image.size()[0]):\n",
    "    if label[i].max()!=0:\n",
    "        print(i)"
   ]
  },
  {
   "cell_type": "code",
   "execution_count": null,
   "metadata": {},
   "outputs": [],
   "source": [
    "depth=33\n",
    "fig,axs=plt.subplots(1,2)\n",
    "axs[0].imshow(image[depth],cmap=\"gray\")\n",
    "axs[1].imshow(label[depth],cmap=\"gray\")\n",
    "fig.show()"
   ]
  },
  {
   "cell_type": "code",
   "execution_count": null,
   "metadata": {},
   "outputs": [],
   "source": [
    "cancer_id=50\n",
    "for depth in range(8):\n",
    "    label=list(cancers[cancer_id][1].values())[0]\n",
    "    if label[0,0,depth].max()!=0:\n",
    "        print(depth)"
   ]
  },
  {
   "cell_type": "code",
   "execution_count": null,
   "metadata": {},
   "outputs": [],
   "source": [
    "depth=3\n",
    "fig,axs=plt.subplots(1,2)\n",
    "axs[0].imshow(cancers[cancer_id][0][0,0,depth+8],cmap=\"gray\")\n",
    "axs[1].imshow(list(cancers[cancer_id][1].values())[0][0,0,depth],cmap=\"gray\")\n",
    "fig.show()\n",
    "axs[0].set_title(\"input\")\n",
    "axs[1].set_title(\"label\")\n",
    "axs[0].tick_params(labelbottom=False,\n",
    "               labelleft=False,\n",
    "               labelright=False,\n",
    "               labeltop=False)\n",
    "axs[1].tick_params(labelbottom=False,\n",
    "               labelleft=False,\n",
    "               labelright=False,\n",
    "               labeltop=False)"
   ]
  },
  {
   "cell_type": "code",
   "execution_count": null,
   "metadata": {},
   "outputs": [],
   "source": [
    "len(axs)"
   ]
  },
  {
   "cell_type": "code",
   "execution_count": null,
   "metadata": {},
   "outputs": [],
   "source": [
    "patch_provider.cube.size()"
   ]
  },
  {
   "cell_type": "code",
   "execution_count": null,
   "metadata": {},
   "outputs": [],
   "source": [
    "label=list(labels.values())[0]"
   ]
  },
  {
   "cell_type": "code",
   "execution_count": null,
   "metadata": {},
   "outputs": [],
   "source": [
    "for i in range(8):\n",
    "    if label[0,0,i].max()!=0:\n",
    "        print(i)"
   ]
  },
  {
   "cell_type": "markdown",
   "metadata": {},
   "source": []
  },
  {
   "cell_type": "code",
   "execution_count": null,
   "metadata": {},
   "outputs": [],
   "source": [
    "plt.imshow(image[0,0,13],cmap =\"gray\")"
   ]
  },
  {
   "cell_type": "code",
   "execution_count": null,
   "metadata": {},
   "outputs": [],
   "source": [
    "plt.imshow(label[0,0,4,:,:],cmap=\"gray\")\n"
   ]
  },
  {
   "cell_type": "markdown",
   "metadata": {},
   "source": []
  },
  {
   "cell_type": "code",
   "execution_count": null,
   "metadata": {},
   "outputs": [],
   "source": [
    "plt.imshow(labels[\"label\"][0,0,0,:,:],cmap=\"gray\")\n"
   ]
  },
  {
   "cell_type": "code",
   "execution_count": null,
   "metadata": {},
   "outputs": [],
   "source": [
    "pre=model(image)\n"
   ]
  },
  {
   "cell_type": "code",
   "execution_count": null,
   "metadata": {},
   "outputs": [],
   "source": [
    "plt.imshow(pre.detach().numpy()[0,0,0,:,:],cmap=\"gray\")"
   ]
  },
  {
   "cell_type": "code",
   "execution_count": null,
   "metadata": {},
   "outputs": [],
   "source": [
    "DiceLoss(pre,labels)"
   ]
  },
  {
   "cell_type": "code",
   "execution_count": null,
   "metadata": {},
   "outputs": [],
   "source": [
    "traindata,valdata=make_data()\n",
    "model=make_model()"
   ]
  },
  {
   "cell_type": "code",
   "execution_count": null,
   "metadata": {},
   "outputs": [],
   "source": [
    "BATCH_SIZE=5\n",
    "patch_provider=traindata[0]\n",
    "trainloader=DataLoader(patch_provider,batch_size=BATCH_SIZE)\n",
    "dscmanager=DSCManager()\n",
    "for image,labels in trainloader:\n",
    "    pre=torch.zeros_like(list(labels.values())[0])\n",
    "    dscmanager.register(pre,labels)\n",
    "dsc=dscmanager.calculate()\n",
    "print(dsc)"
   ]
  },
  {
   "cell_type": "code",
   "execution_count": null,
   "metadata": {},
   "outputs": [],
   "source": [
    "for image,label in trainloader:\n",
    "    if label['GTV-1auto-3'][4][0].max()!=0:\n",
    "        print(\"end\")\n",
    "        break \n",
    "    "
   ]
  },
  {
   "cell_type": "code",
   "execution_count": null,
   "metadata": {},
   "outputs": [],
   "source": [
    "image[:,:,16:32,16:32,16:32].size()"
   ]
  },
  {
   "cell_type": "code",
   "execution_count": null,
   "metadata": {},
   "outputs": [],
   "source": [
    "label['GTV-1auto-3'][4][0][10]"
   ]
  },
  {
   "cell_type": "code",
   "execution_count": null,
   "metadata": {},
   "outputs": [],
   "source": [
    "label.keys()"
   ]
  },
  {
   "cell_type": "code",
   "execution_count": null,
   "metadata": {},
   "outputs": [],
   "source": [
    "plt.imshow(label['GTV-1vis-'][4][0][10],cmap=\"gray\")"
   ]
  },
  {
   "cell_type": "code",
   "execution_count": null,
   "metadata": {},
   "outputs": [],
   "source": [
    "plt.imshow(label['GTV-1auto-3'][4][0][10],cmap=\"gray\")"
   ]
  },
  {
   "cell_type": "code",
   "execution_count": null,
   "metadata": {},
   "outputs": [],
   "source": [
    "image.size()"
   ]
  },
  {
   "cell_type": "code",
   "execution_count": null,
   "metadata": {},
   "outputs": [],
   "source": [
    "pre=model(image.to(torch.device(\"cuda:0\")))"
   ]
  },
  {
   "cell_type": "code",
   "execution_count": null,
   "metadata": {},
   "outputs": [],
   "source": [
    "pre.size()"
   ]
  },
  {
   "cell_type": "code",
   "execution_count": null,
   "metadata": {},
   "outputs": [],
   "source": [
    "DSC(pre,[image[:,:,16:32,16:32,16:32].to(torch.device(\"cuda:0\"))])"
   ]
  },
  {
   "cell_type": "code",
   "execution_count": null,
   "metadata": {},
   "outputs": [],
   "source": [
    "#DSC(pre.cpu(),label)\n",
    "DiceLoss(pre.cpu(),label)"
   ]
  },
  {
   "cell_type": "code",
   "execution_count": null,
   "metadata": {},
   "outputs": [],
   "source": [
    "DSC(pre.cpu(),label)"
   ]
  },
  {
   "cell_type": "code",
   "execution_count": null,
   "metadata": {},
   "outputs": [],
   "source": [
    "plt.imshow(pre[4][0][10].cpu().detach().numpy(),cmap=\"gray\")"
   ]
  },
  {
   "cell_type": "code",
   "execution_count": null,
   "metadata": {},
   "outputs": [],
   "source": [
    "plt.imshow(image[4][0][26],cmap=\"gray\")"
   ]
  },
  {
   "cell_type": "code",
   "execution_count": null,
   "metadata": {},
   "outputs": [],
   "source": [
    "plt.imshow(image[4][0][26][16:32,16:32],cmap=\"gray\")"
   ]
  },
  {
   "cell_type": "code",
   "execution_count": null,
   "metadata": {},
   "outputs": [],
   "source": [
    "dataset=LungRadiomicsInterobserverDataset()"
   ]
  },
  {
   "cell_type": "code",
   "execution_count": null,
   "metadata": {},
   "outputs": [],
   "source": [
    "#dataloader=DataLoader(dataset,batch_size=1,collate_fn=collate_fn)\n",
    "dataloader=DataLoader(dataset[0],batch_size=1)"
   ]
  },
  {
   "cell_type": "code",
   "execution_count": null,
   "metadata": {},
   "outputs": [],
   "source": [
    "next(iter(dataloader))[0].size()"
   ]
  },
  {
   "cell_type": "code",
   "execution_count": null,
   "metadata": {},
   "outputs": [],
   "source": [
    "with pydicom.dcmread(\"/home/s0ran/Strage/CancerSegmentation/dataset/manifest-1598890146597/NSCLC-Radiomics-Interobserver1/interobs05/02-18-2019-NA-CT-90318/1.000000-Segmentation-94745/1-1.dcm\") as dc:\n",
    "    print(dir(dc))\n",
    "    print(dc.SeriesDescription)"
   ]
  },
  {
   "cell_type": "code",
   "execution_count": null,
   "metadata": {},
   "outputs": [],
   "source": [
    "train,test=make_data()"
   ]
  },
  {
   "cell_type": "code",
   "execution_count": null,
   "metadata": {},
   "outputs": [],
   "source": [
    "for i in range(2000):\n",
    "    print(i,train[0][1][i][0][0].max())"
   ]
  },
  {
   "cell_type": "code",
   "execution_count": null,
   "metadata": {},
   "outputs": [],
   "source": [
    "dataset=LungCTFullImageDataset()\n",
    "patch_provider=train[0][1]\n",
    "print(patch_provider[0][0][0].size())\n",
    "print(patch_provider[0][0][0].argmax())\n",
    "plt.imshow(patch_provider[7][0][0][20],cmap=\"gray\")"
   ]
  },
  {
   "cell_type": "code",
   "execution_count": null,
   "metadata": {},
   "outputs": [],
   "source": [
    "image_id=0\n",
    "patch_id=50\n",
    "dataset=train[image_id][1]\n",
    "depth_id=0\n",
    "fig,axs=plt.subplots(1,2)\n",
    "axs[0].imshow(dataset[patch_id][0][0][depth_id+16],cmap=\"gray\",vmin=0,vmax=1)\n",
    "axs[0].set_title(\"input\")\n",
    "axs[1].imshow(dataset[patch_id][1][0][depth_id],cmap=\"gray\",vmin=0,vmax=1)\n",
    "axs[1].set_title(\"ground truth\")\n",
    "print(dataset[patch_id][0][0][depth_id+16].min())\n",
    "print(dataset[patch_id][0][0][depth_id+16].max())\n",
    "print(dataset[patch_id][1][0][depth_id].min())\n",
    "print(dataset[patch_id][1][0][depth_id].max())\n",
    "\n",
    "\n",
    "for ax in axs:\n",
    "    pass\n",
    "    ax.axis(\"off\")\n",
    "\n",
    "fig.savefig(\"../images/pretrainingexample2\")"
   ]
  },
  {
   "cell_type": "code",
   "execution_count": null,
   "metadata": {},
   "outputs": [],
   "source": [
    "for pathc_id in range(len(dataset)):\n",
    "    print(dataset[patch_id][0][0][depth_id].sum())\n"
   ]
  },
  {
   "cell_type": "code",
   "execution_count": null,
   "metadata": {},
   "outputs": [],
   "source": [
    "dataset[0][1].shape"
   ]
  },
  {
   "cell_type": "code",
   "execution_count": null,
   "metadata": {},
   "outputs": [],
   "source": [
    "dataset[0][1].sum(dim=1).sum(dim=1).size()\n"
   ]
  },
  {
   "cell_type": "code",
   "execution_count": null,
   "metadata": {},
   "outputs": [],
   "source": [
    "image_id=0\n",
    "depth_id=45\n",
    "\n",
    "fig,axs=plt.subplots(1,2)\n",
    "axs[0].imshow(dataset[image_id][0][depth_id],cmap=\"gray\")\n",
    "axs[0].set_title(\"raw image\")\n",
    "axs[1].imshow(dataset[image_id][1][depth_id*10],cmap=\"gray\")\n",
    "axs[1].set_title(\"segmentation\")\n",
    "for ax in axs:\n",
    "    ax.axis(\"off\")\n",
    "fig.savefig(\"../images/tumorexample.png\")"
   ]
  },
  {
   "cell_type": "code",
   "execution_count": null,
   "metadata": {},
   "outputs": [],
   "source": [
    "image_id=0\n",
    "#depth_id=45\n",
    "start=446\n",
    "end=458\n",
    "sep=4\n",
    "\n",
    "fig,axs=plt.subplots((end-start)//sep,sep)\n",
    "for i,v in enumerate(range(446,458)):\n",
    "    axs[i//sep][i%sep].imshow(dataset[image_id][1][v],cmap=\"gray\")\n",
    "    axs[i//sep][i%sep].set_title(v)\n",
    "    axs[i//sep][i%sep].axis(\"off\")\n",
    "fig.savefig(\"../images/surrounding.png\")"
   ]
  },
  {
   "cell_type": "code",
   "execution_count": null,
   "metadata": {},
   "outputs": [],
   "source": [
    "data,label=pretraining_data[0][1][900]\n",
    "label.size()\n",
    "plt.imshow(label[0],cmap=\"gray\")"
   ]
  },
  {
   "cell_type": "code",
   "execution_count": null,
   "metadata": {},
   "outputs": [],
   "source": [
    "metadata.columns\n",
    "features=['Series UID', \n",
    "       #'Collection',\n",
    "       # '3rd Party Analysis',\n",
    "       'Data Description URI', 'Subject ID', 'Study UID', 'Study Description',\n",
    "       'Study Date', 'Series Description', 'Manufacturer', 'Modality',\n",
    "       'SOP Class Name', \n",
    "       #'SOP Class UID', \n",
    "       'Number of Images', 'File Size',\n",
    "       'File Location', 'Download Timestamp']"
   ]
  },
  {
   "cell_type": "code",
   "execution_count": null,
   "metadata": {},
   "outputs": [],
   "source": [
    "metadata[\"SOP Class Name\"].unique()"
   ]
  },
  {
   "cell_type": "code",
   "execution_count": null,
   "metadata": {},
   "outputs": [],
   "source": [
    "metadata[metadata[\"Subject ID\"]==\"Lung_Dx-A0166\"]"
   ]
  },
  {
   "cell_type": "code",
   "execution_count": null,
   "metadata": {},
   "outputs": [],
   "source": [
    "len(metadata[metadata[\"Modality\"]==\"PT\"])"
   ]
  },
  {
   "cell_type": "code",
   "execution_count": null,
   "metadata": {},
   "outputs": [],
   "source": [
    "metadata[metadata[\"Study UID\"]==\"1.3.6.1.4.1.14519.5.2.1.6655.2359.104855313699639828167809534834\"]"
   ]
  }
 ],
 "metadata": {
  "interpreter": {
   "hash": "3d40799bd75f1ee68ed90ae7f8fe794adb7302a6065cda59192253d5c643cc18"
  },
  "kernelspec": {
   "display_name": "Python 3",
   "language": "python",
   "name": "python3"
  },
  "language_info": {
   "codemirror_mode": {
    "name": "ipython",
    "version": 3
   },
   "file_extension": ".py",
   "mimetype": "text/x-python",
   "name": "python",
   "nbconvert_exporter": "python",
   "pygments_lexer": "ipython3",
   "version": "3.9.0"
  },
  "orig_nbformat": 4
 },
 "nbformat": 4,
 "nbformat_minor": 2
}
